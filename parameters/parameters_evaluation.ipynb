{
 "cells": [
  {
   "cell_type": "markdown",
   "id": "ea9123a9-fab8-40bf-8db4-a08210f37da8",
   "metadata": {},
   "source": [
    "# Evaluation of hyperparameters"
   ]
  },
  {
   "cell_type": "code",
   "execution_count": null,
   "id": "d6c5569e-34cf-45ad-a9ea-8cdb10bbfa6d",
   "metadata": {},
   "outputs": [],
   "source": [
    "import numpy as np\n",
    "from sklearn.metrics import pairwise_distances\n",
    "from ripser import ripser\n",
    "import matplotlib.pyplot as plt"
   ]
  },
  {
   "cell_type": "markdown",
   "id": "46e5196a-9396-4e4e-b27e-98322eeaf43a",
   "metadata": {},
   "source": [
    "## Betti numbers"
   ]
  },
  {
   "cell_type": "code",
   "execution_count": null,
   "id": "69506df9-b4a7-4cd5-ae47-8feae37b5105",
   "metadata": {},
   "outputs": [],
   "source": [
    "def plot_betti_numbers_dynamics(diagrams, space_type):\n",
    "    for dim, segments in enumerate(diagrams):\n",
    "        epsilons = np.sort(list(set(segments.reshape(-1,))))\n",
    "\n",
    "        indices = dict()\n",
    "        for i in range(len(epsilons)):\n",
    "            indices[epsilons[i]] = i\n",
    "\n",
    "        homologies_num = np.zeros(len(epsilons))\n",
    "        for l, r in segments:\n",
    "            homologies_num[indices[l]] += 1\n",
    "            homologies_num[indices[r]] -= 1\n",
    "\n",
    "        for i in range(1, len(epsilons)):\n",
    "            homologies_num[i] += homologies_num[i - 1]\n",
    "\n",
    "        plt.plot(epsilons, homologies_num)\n",
    "\n",
    "        plt.title(f'$H_{dim}$ dynamics', fontsize=14)\n",
    "        plt.xlabel('$\\epsilon$', fontsize=12)\n",
    "        plt.ylabel(f'$H_{dim}$    ', rotation='horizontal', fontsize=12)\n",
    "        plt.grid()\n",
    "\n",
    "        np.save(\n",
    "            f'parameters/{space_type}/H{dim}_row.npy',\n",
    "            np.vstack((epsilons, homologies_num)).T\n",
    "        )\n",
    "        plt.savefig(f'parameters/{space_type}/H{dim}', dpi=1200)\n",
    "        plt.show()\n",
    "\n",
    "def compute_persistence(embeddings, space_type):\n",
    "    persistence = ripser(\n",
    "        pairwise_distances(embeddings, metric='euclidean'), distance_matrix=True, maxdim=1\n",
    "    )\n",
    "    np.save(f'parameters/{space_type}/persistence.npy', persistence)\n",
    "\n",
    "    plot_betti_numbers_dynamics(persistence['dgms'], space_type)"
   ]
  },
  {
   "cell_type": "code",
   "execution_count": null,
   "id": "51c62b76-7df4-46fe-8fde-33914774cf07",
   "metadata": {},
   "outputs": [],
   "source": [
    "for embeddings_type in ('SVD', 'CBoW'):\n",
    "    embeddings_dict = np.load(\n",
    "        f'data/Russian/Russian_dict_{embeddings_type}_8.npy', allow_pickle=True\n",
    "    ).item()\n",
    "\n",
    "    compute_persistence(\n",
    "        np.array(list(embeddings_dict.values())), embeddings_type\n",
    "    )"
   ]
  },
  {
   "cell_type": "markdown",
   "id": "76a808f2-d368-4b68-92d5-080214215031",
   "metadata": {},
   "source": [
    "## CBoW lower bound"
   ]
  },
  {
   "cell_type": "code",
   "execution_count": null,
   "id": "6491b65f-378e-4c26-86f0-0950a3636a3e",
   "metadata": {},
   "outputs": [],
   "source": [
    "synonym_dict = np.load('data/Russian_synonym_dict.npy', allow_pickle=True).item()\n",
    "embedding_dict = np.load('data/Russian/Russian_dict_CBoW_8.npy', allow_pickle=True).item()\n",
    "dict_tokens = set(embedding_dict.keys())"
   ]
  },
  {
   "cell_type": "code",
   "execution_count": 6,
   "id": "ffc3f092-1167-4473-9147-b65506751ca2",
   "metadata": {},
   "outputs": [
    {
     "name": "stdout",
     "output_type": "stream",
     "text": [
      "(2658, np.float64(1.017))\n"
     ]
    }
   ],
   "source": [
    "synonym_gropus = [[key.lower()] + synonym_dict[key] for key in synonym_dict.keys()]\n",
    "\n",
    "max_dist_in_synonym_groups = []\n",
    "for synonym_group in synonym_gropus:\n",
    "    embeddings = []\n",
    "    for lexeme in synonym_group:\n",
    "        try: embeddings.append(embedding_dict[lexeme])\n",
    "        except KeyError: continue\n",
    "    \n",
    "    if len(embeddings) == 0: continue\n",
    "\n",
    "    max_dist_in_synonym_groups.append(\n",
    "        np.max(pairwise_distances(embeddings), axis=(0, 1))\n",
    "    )\n",
    "\n",
    "print(len(synonym_gropus), np.max(max_dist_in_synonym_groups).round(3))"
   ]
  }
 ],
 "metadata": {
  "kernelspec": {
   "display_name": "Python [.conda-stb]",
   "language": "python",
   "name": "conda-env-.conda-stb-py"
  },
  "language_info": {
   "codemirror_mode": {
    "name": "ipython",
    "version": 3
   },
   "file_extension": ".py",
   "mimetype": "text/x-python",
   "name": "python",
   "nbconvert_exporter": "python",
   "pygments_lexer": "ipython3",
   "version": "3.13.2"
  }
 },
 "nbformat": 4,
 "nbformat_minor": 5
}
