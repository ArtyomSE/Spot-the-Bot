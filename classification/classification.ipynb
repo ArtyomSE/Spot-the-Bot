{
  "cells": [
    {
      "cell_type": "markdown",
      "source": [
        "# TDA classification"
      ],
      "metadata": {
        "id": "QIbseFU_bcdD"
      }
    },
    {
      "cell_type": "code",
      "source": [
        "import numpy as np\n",
        "from TopologicalFeaturesConstructor import TopologicalFeaturesConstructor\n",
        "from sklearn.linear_model import LogisticRegression\n",
        "from sklearn.svm import SVC\n",
        "from sklearn.model_selection import cross_validate\n",
        "from sklearn.metrics import accuracy_score, precision_score, f1_score, recall_score, roc_auc_score\n",
        "from tqdm import tqdm\n",
        "import pickle"
      ],
      "metadata": {
        "id": "Va7LQDtlghUd"
      },
      "execution_count": null,
      "outputs": []
    },
    {
      "cell_type": "code",
      "source": [
        "for embeddings_type, dict_size in zip(('SVD', 'CBoW'), ('1000', '8')):\n",
        "    tda_constructor = TopologicalFeaturesConstructor(\n",
        "        dict_path=f'data/Russian/Russian_dict_{embeddings_type}_{dict_size}.npy',\n",
        "        voids_embeddings_path=f'data/voids/voids_{embeddings_type}.npy',\n",
        "        embeddings_len=8\n",
        "    )\n",
        "\n",
        "    for corpus_name in ('literature', 'mGPT', 'GPT2', 'balaboba'):\n",
        "        corpus = open(\n",
        "            f'classification/corpora/Russian_{corpus_name}_corpus.txt'\n",
        "        ).read().split('\\n')\n",
        "\n",
        "        topological_features = np.vstack([\n",
        "            tda_constructor.construct_topological_features(text.split()) for text in tqdm(corpus)\n",
        "        ])\n",
        "\n",
        "        np.save(\n",
        "            f'classification/topological_features/{embeddings_type}/{corpus_name}.npy',\n",
        "            topological_features\n",
        "        )"
      ],
      "metadata": {
        "colab": {
          "base_uri": "https://localhost:8080/"
        },
        "id": "LB3ac_hXkMJy",
        "outputId": "071ad4fe-914e-46e1-8b80-268ce8198c2b"
      },
      "execution_count": null,
      "outputs": [
        {
          "output_type": "stream",
          "name": "stderr",
          "text": [
            "100%|██████████| 3905/3905 [33:14<00:00,  1.96it/s]\n",
            "100%|██████████| 433/433 [03:25<00:00,  2.10it/s]\n",
            "100%|██████████| 2629/2629 [20:23<00:00,  2.15it/s]\n",
            "100%|██████████| 843/843 [06:52<00:00,  2.04it/s]\n",
            "100%|██████████| 3905/3905 [38:57<00:00,  1.67it/s]\n",
            "100%|██████████| 433/433 [03:54<00:00,  1.85it/s]\n",
            "100%|██████████| 2629/2629 [20:59<00:00,  2.09it/s]\n",
            "100%|██████████| 843/843 [07:00<00:00,  2.00it/s]\n"
          ]
        }
      ]
    },
    {
      "cell_type": "code",
      "source": [
        "scoring = ['accuracy', 'precision', 'recall', 'f1', 'roc_auc']\n",
        "\n",
        "scores = dict()\n",
        "for embeddings_type in ('SVD', 'CBoW'):\n",
        "    topological_features = np.vstack([\n",
        "        np.load(\n",
        "            f'classification/topological_features/{embeddings_type}/{corpus_name}.npy',\n",
        "            allow_pickle=True\n",
        "        ) for corpus_name in ('literature', 'mGPT', 'GPT2', 'balaboba')\n",
        "    ])\n",
        "\n",
        "    targets = np.hstack((\n",
        "        np.zeros(topological_features.shape[0] // 2),\n",
        "        np.ones(topological_features.shape[0] // 2)\n",
        "    ))\n",
        "\n",
        "    models = (LogisticRegression(max_iter=10000), SVC(kernel='linear', random_state=42))\n",
        "\n",
        "    for model, model_type in zip(models, ('logit', 'svm')):\n",
        "        curr_scores = cross_validate(model, topological_features, targets, cv=5, scoring=scoring)\n",
        "        curr_scores.pop('fit_time')\n",
        "        curr_scores.pop('score_time')\n",
        "        scores[f'{embeddings_type} {model_type}'] = curr_scores\n",
        "\n",
        "scores"
      ],
      "metadata": {
        "colab": {
          "base_uri": "https://localhost:8080/"
        },
        "id": "KvGDnnHXnzFF",
        "outputId": "4fd4e842-7e81-4333-f107-6c9f4076f50c"
      },
      "execution_count": null,
      "outputs": [
        {
          "output_type": "execute_result",
          "data": {
            "text/plain": [
              "{'SVD logit': {'test_accuracy': array([0.81690141, 0.95454545, 0.98783611, 0.98271447, 0.7893726 ]),\n",
              "  'test_precision': array([0.79151943, 0.92362768, 0.99097938, 0.99867725, 1.        ]),\n",
              "  'test_recall': array([0.86043534, 0.99103713, 0.98463508, 0.96670935, 0.5787452 ]),\n",
              "  'test_f1': array([0.82453988, 0.95614577, 0.98779705, 0.98243331, 0.73317113]),\n",
              "  'test_roc_auc': array([0.89357844, 0.99466359, 0.99817037, 0.99829497, 0.99856876])},\n",
              " 'SVD svm': {'test_accuracy': array([0.82586428, 0.95902689, 0.98975672, 0.9865557 , 0.81370038]),\n",
              "  'test_precision': array([0.84161074, 0.9272944 , 0.98602287, 0.9973822 , 1.        ]),\n",
              "  'test_recall': array([0.8028169 , 0.99615877, 0.99359795, 0.97567222, 0.62740077]),\n",
              "  'test_f1': array([0.82175623, 0.96049383, 0.98979592, 0.98640777, 0.77104642]),\n",
              "  'test_roc_auc': array([0.88841582, 0.99614893, 0.99841137, 0.99913273, 0.99910978])},\n",
              " 'CBoW logit': {'test_accuracy': array([0.9865557 , 0.99295775, 0.9993598 , 0.99743918, 0.99231754]),\n",
              "  'test_precision': array([0.98346056, 0.99232737, 1.        , 0.9987163 , 0.99870298]),\n",
              "  'test_recall': array([0.98975672, 0.99359795, 0.99871959, 0.99615877, 0.98591549]),\n",
              "  'test_f1': array([0.9865986 , 0.99296225, 0.99935939, 0.9974359 , 0.99226804]),\n",
              "  'test_roc_auc': array([0.99357664, 0.9975064 , 0.99998033, 0.99998033, 0.99836219])},\n",
              " 'CBoW svm': {'test_accuracy': array([0.9865557 , 0.99359795, 0.99871959, 0.99615877, 0.99103713]),\n",
              "  'test_precision': array([0.98469388, 0.99359795, 1.        , 0.998713  , 0.99869961]),\n",
              "  'test_recall': array([0.98847631, 0.99359795, 0.99743918, 0.99359795, 0.98335467]),\n",
              "  'test_f1': array([0.98658147, 0.99359795, 0.99871795, 0.99614891, 0.99096774]),\n",
              "  'test_roc_auc': array([0.99348483, 0.99758181, 0.9999918 , 0.99998361, 0.99838022])}}"
            ]
          },
          "metadata": {},
          "execution_count": 57
        }
      ]
    },
    {
      "cell_type": "code",
      "source": [
        "for key in scores.keys():\n",
        "    print(key)\n",
        "    for metric in scores[key].keys():\n",
        "        print(f'    {metric[5:]}: {round(scores[key][metric].mean(), 3)}')\n",
        "    print()"
      ],
      "metadata": {
        "colab": {
          "base_uri": "https://localhost:8080/"
        },
        "id": "8RXSiXKzgAyB",
        "outputId": "38fcdcfb-6a97-416e-e12b-606af47ff96d"
      },
      "execution_count": null,
      "outputs": [
        {
          "output_type": "stream",
          "name": "stdout",
          "text": [
            "SVD logit\n",
            "    accuracy: 0.906\n",
            "    precision: 0.941\n",
            "    recall: 0.876\n",
            "    f1: 0.897\n",
            "    roc_auc: 0.977\n",
            "\n",
            "SVD svm\n",
            "    accuracy: 0.915\n",
            "    precision: 0.95\n",
            "    recall: 0.879\n",
            "    f1: 0.906\n",
            "    roc_auc: 0.976\n",
            "\n",
            "CBoW logit\n",
            "    accuracy: 0.994\n",
            "    precision: 0.995\n",
            "    recall: 0.993\n",
            "    f1: 0.994\n",
            "    roc_auc: 0.998\n",
            "\n",
            "CBoW svm\n",
            "    accuracy: 0.993\n",
            "    precision: 0.995\n",
            "    recall: 0.991\n",
            "    f1: 0.993\n",
            "    roc_auc: 0.998\n",
            "\n"
          ]
        }
      ]
    }
  ],
  "metadata": {
    "colab": {
      "collapsed_sections": [
        "KTIWsv8Gsw-J",
        "qfKUjz0K9XA1",
        "0C-WjBzz9dl4",
        "X9qyo1GxAljx",
        "CQqigPzrA3Jh",
        "-JHOOueY47mr",
        "EJZtagUior06",
        "SfET0Xa4_C1l",
        "Nkk1sETTetaU",
        "3IK8RE56Baj9",
        "xXEjI9xzBamI",
        "J9U9R7JpBazA",
        "2tHUkBktOhh6",
        "8dwnO4tnSpuq",
        "pHmyLtBwSzwp",
        "sCt4avq7FEez",
        "6XwXrB8c4oKQ",
        "ZaZeN0DthnFD",
        "X413evZNvnIL",
        "QIbseFU_bcdD",
        "wpOgfPHPfdp9",
        "LNMy-6ucfiOp",
        "aOVd4d4jOijq",
        "fIn_-K_5cmE8",
        "D3DcLwhkhOIr",
        "mf0iy5Vo68R3",
        "5zw3Aac3CAwW",
        "cMIMCk8zde9T",
        "-kZ7weUoQnp6",
        "TgrCX1mZxnpm",
        "NGazGHVK4-Ll",
        "TssCIPcARVwo",
        "CzQzIHLGzw9z"
      ],
      "provenance": []
    },
    "kernelspec": {
      "display_name": "Python 3",
      "name": "python3"
    },
    "language_info": {
      "name": "python"
    }
  },
  "nbformat": 4,
  "nbformat_minor": 0
}